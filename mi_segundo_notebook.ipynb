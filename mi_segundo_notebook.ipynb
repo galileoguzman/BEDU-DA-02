{
 "cells": [
  {
   "cell_type": "code",
   "execution_count": 1,
   "id": "bb53ba0d-3ffd-4be2-88ab-af2510f3815e",
   "metadata": {},
   "outputs": [
    {
     "name": "stdout",
     "output_type": "stream",
     "text": [
      "b'{\"login\":\"galileoguzman\",\"id\":2016072,\"node_id\":\"MDQ6VXNlcjIwMTYwNzI=\",\"avatar_url\":\"https://avatars.githubusercontent.com/u/2016072?v=4\",\"gravatar_id\":\"\",\"url\":\"https://api.github.com/users/galileoguzman\",\"html_url\":\"https://github.com/galileoguzman\",\"followers_url\":\"https://api.github.com/users/galileoguzman/followers\",\"following_url\":\"https://api.github.com/users/galileoguzman/following{/other_user}\",\"gists_url\":\"https://api.github.com/users/galileoguzman/gists{/gist_id}\",\"starred_url\":\"https://api.github.com/users/galileoguzman/starred{/owner}{/repo}\",\"subscriptions_url\":\"https://api.github.com/users/galileoguzman/subscriptions\",\"organizations_url\":\"https://api.github.com/users/galileoguzman/orgs\",\"repos_url\":\"https://api.github.com/users/galileoguzman/repos\",\"events_url\":\"https://api.github.com/users/galileoguzman/events{/privacy}\",\"received_events_url\":\"https://api.github.com/users/galileoguzman/received_events\",\"type\":\"User\",\"site_admin\":false,\"name\":\"Galileo Guzm\\xc3\\xa1n\",\"company\":\"@novacoco \",\"blog\":\"https://galileoguzman.com\",\"location\":\"M\\xc3\\xa9xico\",\"email\":null,\"hireable\":null,\"bio\":\"- Coding for 10 years now\\\\r\\\\n- Different conferences in Mexico (code & agile)\\\\r\\\\n- I love Python, Objective C, Swift & Kotlin\\\\r\\\\n- Created a non profit org\",\"twitter_username\":\"galileoguzman\",\"public_repos\":212,\"public_gists\":32,\"followers\":56,\"following\":64,\"created_at\":\"2012-07-21T05:03:41Z\",\"updated_at\":\"2023-09-21T12:38:54Z\"}'\n"
     ]
    }
   ],
   "source": [
    "import requests\n",
    "\n",
    "url = 'https://api.github.com/users/galileoguzman'\n",
    "\n",
    "response = requests.get(url)\n",
    "\n",
    "print(response.content)"
   ]
  },
  {
   "cell_type": "code",
   "execution_count": 5,
   "id": "d6a459dc-d532-473f-bf83-fbe05196aea4",
   "metadata": {},
   "outputs": [
    {
     "name": "stdout",
     "output_type": "stream",
     "text": [
      "<class 'dict'>\n",
      "https://avatars.githubusercontent.com/u/2016072?v=4\n"
     ]
    }
   ],
   "source": [
    "user = response.json()\n",
    "\n",
    "print(type(user))\n",
    "\n",
    "print(user.get('avatar_url'))"
   ]
  }
 ],
 "metadata": {
  "kernelspec": {
   "display_name": "Python 3 (ipykernel)",
   "language": "python",
   "name": "python3"
  },
  "language_info": {
   "codemirror_mode": {
    "name": "ipython",
    "version": 3
   },
   "file_extension": ".py",
   "mimetype": "text/x-python",
   "name": "python",
   "nbconvert_exporter": "python",
   "pygments_lexer": "ipython3",
   "version": "3.10.5"
  }
 },
 "nbformat": 4,
 "nbformat_minor": 5
}
